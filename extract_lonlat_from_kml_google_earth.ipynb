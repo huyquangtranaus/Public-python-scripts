{
 "cells": [
  {
   "cell_type": "code",
   "execution_count": 1,
   "id": "83b56b76-1122-4efb-bfd1-8dfda1655387",
   "metadata": {},
   "outputs": [],
   "source": [
    "\"\"\"\n",
    "Author: Huy Quang Tran - Research Scientist\n",
    "Email:  huy2013uq@gmail.com\n",
    "\n",
    "Purpose?:\n",
    "    This script/function is used to extract lon/lat coordinates from a kml file (drawn from Google Earth)\n",
    "\n",
    "Why this script?:\n",
    "    In many cases, numerical ocean/wave modellers have to draw the coastlines manually from Google Earth/Map, \n",
    "    but how to get the coordinates from there? One way to do that is to save the polygon from Google \n",
    "    Earth/map into a *kml file, then use Python to convert that kml file into a simpler format (e.g. a text file)\n",
    "    \n",
    "License?: \n",
    "    Please use it as your own risk :) & any feedback/comments is welcome!\n",
    "\n",
    "\"\"\"\n",
    "from lxml import etree\n",
    "import pandas as pd\n",
    "import re\n",
    "import numpy as np\n",
    "\n",
    "\n",
    "def save_lonlat_google_kml_2text(filein):\n",
    "    tree = etree.parse(filein)\n",
    "    ns = {\"kml\": \"http://www.opengis.net/kml/2.2\"}\n",
    "    coords = []\n",
    "    for dt in tree.xpath(\"/kml:kml/kml:Document/kml:Placemark/kml:Polygon/kml:outerBoundaryIs/kml:LinearRing/kml:coordinates\", namespaces=ns): # kml:SimpleData[@name='ID']\n",
    "        data =re.split(',| ', dt.text.strip())\n",
    "        \n",
    "    data = np.reshape(np.array(data), (-1, 3))\n",
    "    np.savetxt(filein[0:-4] +'_coords.txt',data[:,0:2],fmt='%s %s',delimiter=' ') # ,newline='\\n',header=' ',footer=' ',comments= '#',encoding=None\n",
    "\n",
    "\n",
    "if __name__ == \"__main__\":\n",
    "    save_lonlat_google_kml_2text(\"Tasmania_Aus.kml\")"
   ]
  },
  {
   "cell_type": "code",
   "execution_count": null,
   "id": "0a8ba8e0-b758-45e5-a9c8-2ebd744cef74",
   "metadata": {},
   "outputs": [],
   "source": []
  }
 ],
 "metadata": {
  "kernelspec": {
   "display_name": "Python 3",
   "language": "python",
   "name": "python3"
  },
  "language_info": {
   "codemirror_mode": {
    "name": "ipython",
    "version": 3
   },
   "file_extension": ".py",
   "mimetype": "text/x-python",
   "name": "python",
   "nbconvert_exporter": "python",
   "pygments_lexer": "ipython3",
   "version": "3.8.8"
  }
 },
 "nbformat": 4,
 "nbformat_minor": 5
}
